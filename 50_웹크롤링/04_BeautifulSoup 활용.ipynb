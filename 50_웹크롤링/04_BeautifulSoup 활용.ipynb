{
 "cells": [
  {
   "cell_type": "markdown",
   "metadata": {},
   "source": [
    "# 4. BeautifulSoup 활용\n",
    "* 멜론 사이트 크롤링하기\n",
    "* 제목, 가수, 앨범, 좋아요수 추출"
   ]
  },
  {
   "cell_type": "code",
   "execution_count": 1,
   "metadata": {},
   "outputs": [],
   "source": [
    "import requests\n",
    "from bs4 import BeautifulSoup\n",
    "import pandas as pd"
   ]
  },
  {
   "cell_type": "code",
   "execution_count": 2,
   "metadata": {},
   "outputs": [
    {
     "data": {
      "text/plain": [
       "<Response [200]>"
      ]
     },
     "execution_count": 2,
     "metadata": {},
     "output_type": "execute_result"
    }
   ],
   "source": [
    "url = 'https://www.melon.com/chart/index.htm'\n",
    "headers = {\n",
    "    'user-agent': 'Mozilla/5.0 (Windows NT 10.0; Win64; x64) AppleWebKit/537.36 (KHTML, like Gecko) Chrome/92.0.4515.159 Safari/537.36'    \n",
    "}\n",
    "res = requests.get(url,headers=headers)\n",
    "res"
   ]
  },
  {
   "cell_type": "code",
   "execution_count": 3,
   "metadata": {},
   "outputs": [
    {
     "data": {
      "text/plain": [
       "'<!DOCTYPE html>\\r\\n<html lang=\"ko\">\\r\\n\\r\\n\\r\\n\\r\\n\\r\\n\\r\\n\\r\\n\\r\\n\\r\\n\\r\\n\\r\\n\\r\\n\\r\\n\\r\\n<head>\\r\\n\\t\\t\\r\\n\\t\\r\\n\\t\\r\\n\\t\\r\\n\\t\\r\\n\\t\\r\\n\\t\\r\\n\\t\\r\\n\\r\\n\\t<meta http-equiv=\"Content-Type\" content=\"text/html; charset=utf-8\"/>\\r\\n\\t<meta http-equiv=\"X-UA-Compatible\" content=\"IE=edge,chrome=1\" />\\r\\n\\t\\r\\n\\r\\n\\t\\r\\n\\r\\n\\t\\r\\n\\r\\n\\t<title>멜론차트>TOP100>멜론</title>\\r\\n\\t<meta name=\"keywor'"
      ]
     },
     "execution_count": 3,
     "metadata": {},
     "output_type": "execute_result"
    }
   ],
   "source": [
    "res.text[:300]"
   ]
  },
  {
   "cell_type": "code",
   "execution_count": 4,
   "metadata": {},
   "outputs": [],
   "source": [
    "soup = BeautifulSoup(res.text)"
   ]
  },
  {
   "cell_type": "markdown",
   "metadata": {},
   "source": [
    "## 노래제목 추출"
   ]
  },
  {
   "cell_type": "code",
   "execution_count": 14,
   "metadata": {},
   "outputs": [
    {
     "data": {
      "text/plain": [
       "['STAY',\n",
       " '신호등',\n",
       " 'Next Level',\n",
       " '바라만 본다',\n",
       " 'OHAYO MY NIGHT',\n",
       " 'Permission to Dance',\n",
       " 'Weekend',\n",
       " '낙하 (with 아이유)',\n",
       " 'Queendom',\n",
       " 'Butter']"
      ]
     },
     "execution_count": 14,
     "metadata": {},
     "output_type": "execute_result"
    }
   ],
   "source": [
    "songs = soup.select('.ellipsis.rank01')\n",
    "title = []\n",
    "\n",
    "for song in songs:\n",
    "    title.append(song.find('a').get_text())\n",
    "title[:10]"
   ]
  },
  {
   "cell_type": "markdown",
   "metadata": {},
   "source": [
    "## 가수 이름 추출"
   ]
  },
  {
   "cell_type": "code",
   "execution_count": 6,
   "metadata": {},
   "outputs": [
    {
     "data": {
      "text/plain": [
       "['The Kid LAROI',\n",
       " '이무진',\n",
       " 'aespa',\n",
       " 'MSG워너비(M.O.M)',\n",
       " '디핵 (D-Hack)',\n",
       " '방탄소년단',\n",
       " '태연 (TAEYEON)',\n",
       " 'AKMU (악뮤)',\n",
       " 'Red Velvet (레드벨벳)',\n",
       " '방탄소년단']"
      ]
     },
     "execution_count": 6,
     "metadata": {},
     "output_type": "execute_result"
    }
   ],
   "source": [
    "songs = soup.select('.ellipsis.rank02')\n",
    "singer = []\n",
    "\n",
    "for song in songs:\n",
    "    singer.append(song.find('a').get_text())\n",
    "singer[:10]"
   ]
  },
  {
   "cell_type": "markdown",
   "metadata": {},
   "source": [
    "## 앨범 추출"
   ]
  },
  {
   "cell_type": "code",
   "execution_count": 7,
   "metadata": {},
   "outputs": [
    {
     "data": {
      "text/plain": [
       "['Stay',\n",
       " '신호등',\n",
       " 'Next Level',\n",
       " 'MSG워너비 1집',\n",
       " 'OHAYO MY NIGHT',\n",
       " 'Butter / Permission to Dance',\n",
       " 'Weekend',\n",
       " 'NEXT EPISODE',\n",
       " 'Queendom - The 6th Mini Album',\n",
       " 'Butter']"
      ]
     },
     "execution_count": 7,
     "metadata": {},
     "output_type": "execute_result"
    }
   ],
   "source": [
    "songs = soup.select('.ellipsis.rank03')\n",
    "album = []\n",
    "\n",
    "for song in songs:\n",
    "    album.append(song.find('a').get_text())\n",
    "album[:10]"
   ]
  },
  {
   "cell_type": "markdown",
   "metadata": {},
   "source": [
    "## 좋아요 수 추출"
   ]
  },
  {
   "cell_type": "code",
   "execution_count": 8,
   "metadata": {},
   "outputs": [
    {
     "data": {
      "text/plain": [
       "'33658563,33480898,33487342,33625988,32698101,33666269,33655994,33725775,33805289,33507137,33749109,33691794,33623210,33359317,33503722,32508053,33878014,32872978,33496587,33589488,33939317,33337651,33464805,30287019,33902950,33036660,33372781,33759183,33652821,33514925,33868791,33397561,33239419,33630420,33599821,33618271,33606505,33930393,33589260,33359725,33618864,33527705,32962258,33559180,8302665,33728859,31737197,31254010,3414749,33800786,33167063,32860397,33359309,30244931,33947769,33408084,33061995,32961718,1944399,33939315,33315511,33077234,33625989,8130796,32061975,33248758,33946475,33742378,32491274,33940932,33939313,32183386,33013877,33939312,33855085,33372788,30962526,32003395,32578498,33632153,31029291,33772329,33107649,32794652,3894276,33510307,33825315,32559782,32224272,33716984,5473462,31509376,32224166,33331004,32525311,33939316,31853557,33699116,33011180,32055419'"
      ]
     },
     "execution_count": 8,
     "metadata": {},
     "output_type": "execute_result"
    }
   ],
   "source": [
    "songs = soup.select('.button_etc.like')\n",
    "params = ''\n",
    "\n",
    "for song in songs:\n",
    "    params += song['data-song-no']+ ','\n",
    "params[:-1]"
   ]
  },
  {
   "cell_type": "code",
   "execution_count": 9,
   "metadata": {},
   "outputs": [
    {
     "data": {
      "text/plain": [
       "<Response [200]>"
      ]
     },
     "execution_count": 9,
     "metadata": {},
     "output_type": "execute_result"
    }
   ],
   "source": [
    "url2 = 'https://www.melon.com/commonlike/getSongLike.json?contsIds=' + params[:-1]\n",
    "\n",
    "res = requests.get(url2, headers=headers)\n",
    "res"
   ]
  },
  {
   "cell_type": "code",
   "execution_count": 10,
   "metadata": {},
   "outputs": [
    {
     "data": {
      "text/plain": [
       "[129404, 203876, 201176, 152723, 120887, 170468, 130977, 114785, 85556, 241445]"
      ]
     },
     "execution_count": 10,
     "metadata": {},
     "output_type": "execute_result"
    }
   ],
   "source": [
    "songs = res.json()['contsLike']\n",
    "like = []\n",
    "\n",
    "for song in songs:\n",
    "    like.append(song['SUMMCNT'])\n",
    "like[:10]"
   ]
  },
  {
   "cell_type": "code",
   "execution_count": 11,
   "metadata": {},
   "outputs": [
    {
     "data": {
      "text/plain": [
       "('STAY', 'The Kid LAROI', 'Stay', 129404)"
      ]
     },
     "execution_count": 11,
     "metadata": {},
     "output_type": "execute_result"
    }
   ],
   "source": [
    "title[0], singer[0], album[0], like[0]"
   ]
  },
  {
   "cell_type": "code",
   "execution_count": 12,
   "metadata": {},
   "outputs": [
    {
     "data": {
      "text/html": [
       "<div>\n",
       "<style scoped>\n",
       "    .dataframe tbody tr th:only-of-type {\n",
       "        vertical-align: middle;\n",
       "    }\n",
       "\n",
       "    .dataframe tbody tr th {\n",
       "        vertical-align: top;\n",
       "    }\n",
       "\n",
       "    .dataframe thead th {\n",
       "        text-align: right;\n",
       "    }\n",
       "</style>\n",
       "<table border=\"1\" class=\"dataframe\">\n",
       "  <thead>\n",
       "    <tr style=\"text-align: right;\">\n",
       "      <th></th>\n",
       "      <th>title</th>\n",
       "      <th>singer</th>\n",
       "      <th>album</th>\n",
       "      <th>like</th>\n",
       "    </tr>\n",
       "  </thead>\n",
       "  <tbody>\n",
       "    <tr>\n",
       "      <th>0</th>\n",
       "      <td>STAY</td>\n",
       "      <td>The Kid LAROI</td>\n",
       "      <td>Stay</td>\n",
       "      <td>129404</td>\n",
       "    </tr>\n",
       "    <tr>\n",
       "      <th>1</th>\n",
       "      <td>신호등</td>\n",
       "      <td>이무진</td>\n",
       "      <td>신호등</td>\n",
       "      <td>203876</td>\n",
       "    </tr>\n",
       "    <tr>\n",
       "      <th>2</th>\n",
       "      <td>Next Level</td>\n",
       "      <td>aespa</td>\n",
       "      <td>Next Level</td>\n",
       "      <td>201176</td>\n",
       "    </tr>\n",
       "    <tr>\n",
       "      <th>3</th>\n",
       "      <td>바라만 본다</td>\n",
       "      <td>MSG워너비(M.O.M)</td>\n",
       "      <td>MSG워너비 1집</td>\n",
       "      <td>152723</td>\n",
       "    </tr>\n",
       "    <tr>\n",
       "      <th>4</th>\n",
       "      <td>OHAYO MY NIGHT</td>\n",
       "      <td>디핵 (D-Hack)</td>\n",
       "      <td>OHAYO MY NIGHT</td>\n",
       "      <td>120887</td>\n",
       "    </tr>\n",
       "    <tr>\n",
       "      <th>...</th>\n",
       "      <td>...</td>\n",
       "      <td>...</td>\n",
       "      <td>...</td>\n",
       "      <td>...</td>\n",
       "    </tr>\n",
       "    <tr>\n",
       "      <th>95</th>\n",
       "      <td>한계</td>\n",
       "      <td>백예린 (Yerin Baek)</td>\n",
       "      <td>선물</td>\n",
       "      <td>14182</td>\n",
       "    </tr>\n",
       "    <tr>\n",
       "      <th>96</th>\n",
       "      <td>오늘도 빛나는 너에게 (To You My Light) (Feat.이라온)</td>\n",
       "      <td>마크툽 (MAKTUB)</td>\n",
       "      <td>Red Moon : To You My Light</td>\n",
       "      <td>244652</td>\n",
       "    </tr>\n",
       "    <tr>\n",
       "      <th>97</th>\n",
       "      <td>고백</td>\n",
       "      <td>장범준</td>\n",
       "      <td>첫 번째 '고백'</td>\n",
       "      <td>26095</td>\n",
       "    </tr>\n",
       "    <tr>\n",
       "      <th>98</th>\n",
       "      <td>나랑 같이 걸을래 (바른연애 길잡이 X 적재)</td>\n",
       "      <td>적재</td>\n",
       "      <td>나랑 같이 걸을래 (바른연애 길잡이 X 적재)</td>\n",
       "      <td>112757</td>\n",
       "    </tr>\n",
       "    <tr>\n",
       "      <th>99</th>\n",
       "      <td>Memories</td>\n",
       "      <td>Maroon 5</td>\n",
       "      <td>JORDI (Deluxe)</td>\n",
       "      <td>176119</td>\n",
       "    </tr>\n",
       "  </tbody>\n",
       "</table>\n",
       "<p>100 rows × 4 columns</p>\n",
       "</div>"
      ],
      "text/plain": [
       "                                       title            singer  \\\n",
       "0                                       STAY     The Kid LAROI   \n",
       "1                                        신호등               이무진   \n",
       "2                                 Next Level             aespa   \n",
       "3                                     바라만 본다     MSG워너비(M.O.M)   \n",
       "4                             OHAYO MY NIGHT       디핵 (D-Hack)   \n",
       "..                                       ...               ...   \n",
       "95                                        한계  백예린 (Yerin Baek)   \n",
       "96  오늘도 빛나는 너에게 (To You My Light) (Feat.이라온)      마크툽 (MAKTUB)   \n",
       "97                                        고백               장범준   \n",
       "98                 나랑 같이 걸을래 (바른연애 길잡이 X 적재)                적재   \n",
       "99                                  Memories          Maroon 5   \n",
       "\n",
       "                         album    like  \n",
       "0                         Stay  129404  \n",
       "1                          신호등  203876  \n",
       "2                   Next Level  201176  \n",
       "3                    MSG워너비 1집  152723  \n",
       "4               OHAYO MY NIGHT  120887  \n",
       "..                         ...     ...  \n",
       "95                          선물   14182  \n",
       "96  Red Moon : To You My Light  244652  \n",
       "97                   첫 번째 '고백'   26095  \n",
       "98   나랑 같이 걸을래 (바른연애 길잡이 X 적재)  112757  \n",
       "99              JORDI (Deluxe)  176119  \n",
       "\n",
       "[100 rows x 4 columns]"
      ]
     },
     "execution_count": 12,
     "metadata": {},
     "output_type": "execute_result"
    }
   ],
   "source": [
    "# 제목, 가수, 앨범, 좋아요 dataframe 생성\n",
    "df_data = {\n",
    "    'title': title,\n",
    "    'singer': singer,\n",
    "    'album': album,\n",
    "    'like': like\n",
    "}\n",
    "\n",
    "df = pd.DataFrame(data=df_data)\n",
    "df"
   ]
  },
  {
   "cell_type": "code",
   "execution_count": null,
   "metadata": {},
   "outputs": [],
   "source": []
  }
 ],
 "metadata": {
  "kernelspec": {
   "display_name": "Python 3",
   "language": "python",
   "name": "python3"
  },
  "language_info": {
   "codemirror_mode": {
    "name": "ipython",
    "version": 3
   },
   "file_extension": ".py",
   "mimetype": "text/x-python",
   "name": "python",
   "nbconvert_exporter": "python",
   "pygments_lexer": "ipython3",
   "version": "3.8.5"
  }
 },
 "nbformat": 4,
 "nbformat_minor": 4
}
