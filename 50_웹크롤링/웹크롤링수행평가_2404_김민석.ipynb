{
 "cells": [
  {
   "cell_type": "markdown",
   "metadata": {},
   "source": [
    "# 빅데이터 웹크롤링 수행평가"
   ]
  },
  {
   "cell_type": "markdown",
   "metadata": {},
   "source": [
    "## 1. 실습 주제 : 게임에서의 캐릭터 순위"
   ]
  },
  {
   "cell_type": "markdown",
   "metadata": {},
   "source": [
    "## 2. 웹크롤링 대상 사이트 찾아보기\n",
    "* op.gg : https://www.op.gg/aram/statistics\n",
    "* lol.ps : https://lol.ps/statistics/\n",
    "* fow.kr : http://fow.kr/statistics"
   ]
  },
  {
   "cell_type": "code",
   "execution_count": 1,
   "metadata": {},
   "outputs": [],
   "source": [
    "import requests\n",
    "from bs4 import BeautifulSoup\n",
    "import pandas as pd"
   ]
  },
  {
   "cell_type": "code",
   "execution_count": 2,
   "metadata": {},
   "outputs": [
    {
     "data": {
      "text/plain": [
       "<Response [200]>"
      ]
     },
     "execution_count": 2,
     "metadata": {},
     "output_type": "execute_result"
    }
   ],
   "source": [
    "url = 'https://www.op.gg/aram/statistics'\n",
    "headers = {\n",
    "    'user-agent':'Mozilla/5.0 (Windows NT 10.0; Win64; x64) AppleWebKit/537.36 (KHTML, like Gecko) Chrome/93.0.4577.63 Safari/537.36'\n",
    "}\n",
    "res = requests.get(url,headers=headers)\n",
    "res"
   ]
  },
  {
   "cell_type": "code",
   "execution_count": 3,
   "metadata": {},
   "outputs": [
    {
     "data": {
      "text/plain": [
       "'\\t<!DOCTYPE html>\\n\\t<!--\\n\\t  ,ad8888ba,   88888888ba         ,ad8888ba,    ,ad8888ba,\\n\\t d8\"\\'    `\"8b  88      \"8b       d8\"\\'    `\"8b  d8\"\\'    `\"8b\\n\\td8\\'        `8b 88      ,8P      d8\\'           d8\\'\\n\\t88          88 88aaaaaa8P\\'      88            88\\n\\t88          88 88\"\"\"\"\"\"\\'        88      88888 88      '"
      ]
     },
     "execution_count": 3,
     "metadata": {},
     "output_type": "execute_result"
    }
   ],
   "source": [
    "res.text[:300]"
   ]
  },
  {
   "cell_type": "code",
   "execution_count": 4,
   "metadata": {},
   "outputs": [],
   "source": [
    "soup = BeautifulSoup(res.text)"
   ]
  },
  {
   "cell_type": "markdown",
   "metadata": {},
   "source": [
    "## 3. 캐릭터 이름 추출"
   ]
  },
  {
   "cell_type": "code",
   "execution_count": 5,
   "metadata": {},
   "outputs": [
    {
     "data": {
      "text/plain": [
       "['Xerath',\n",
       " 'Varus',\n",
       " \"Kog'Maw\",\n",
       " 'Yuumi',\n",
       " 'Ashe',\n",
       " 'Senna',\n",
       " 'Lillia',\n",
       " 'Ezreal',\n",
       " 'Ziggs',\n",
       " 'Miss Fortune']"
      ]
     },
     "execution_count": 5,
     "metadata": {},
     "output_type": "execute_result"
    }
   ],
   "source": [
    "champs = soup.select('.champion-index-table__name')\n",
    "name = []\n",
    "\n",
    "for champ in champs:\n",
    "    name.append(champ.get_text())\n",
    "name[:10]"
   ]
  },
  {
   "cell_type": "markdown",
   "metadata": {},
   "source": [
    "## 4. 캐릭터 승률 추출"
   ]
  },
  {
   "cell_type": "code",
   "execution_count": 6,
   "metadata": {},
   "outputs": [
    {
     "data": {
      "text/plain": [
       "['55.53%',\n",
       " '54.19%',\n",
       " '55.40%',\n",
       " '51.53%',\n",
       " '55.97%',\n",
       " '53.60%',\n",
       " '54.92%',\n",
       " '52.31%',\n",
       " '53.39%',\n",
       " '53.08%']"
      ]
     },
     "execution_count": 6,
     "metadata": {},
     "output_type": "execute_result"
    }
   ],
   "source": [
    "champs = soup.select('.champion-index-table__cell.champion-index-table__cell--value')\n",
    "winrate = []\n",
    "i = 1\n",
    "for champ in champs:\n",
    "    if (i % 3 == 1):\n",
    "        winrate.append(champ.get_text())\n",
    "    i += 1\n",
    "winrate[:10]"
   ]
  },
  {
   "cell_type": "markdown",
   "metadata": {},
   "source": [
    "## 5. 캐릭터 점수 추출"
   ]
  },
  {
   "cell_type": "code",
   "execution_count": 7,
   "metadata": {},
   "outputs": [
    {
     "data": {
      "text/plain": [
       "['4.60:1',\n",
       " '4.21:1',\n",
       " '3.58:1',\n",
       " '7.31:1',\n",
       " '3.92:1',\n",
       " '4.77:1',\n",
       " '3.28:1',\n",
       " '3.83:1',\n",
       " '3.87:1',\n",
       " '3.78:1']"
      ]
     },
     "execution_count": 7,
     "metadata": {},
     "output_type": "execute_result"
    }
   ],
   "source": [
    "champs = soup.select('.champion-index-table__cell.champion-index-table__cell--value')\n",
    "KDA = []\n",
    "i = 1\n",
    "for champ in champs:\n",
    "    if (i % 3 == 2):\n",
    "        KDA.append(champ.get_text())\n",
    "    i += 1\n",
    "KDA[:10]"
   ]
  },
  {
   "cell_type": "code",
   "execution_count": 9,
   "metadata": {},
   "outputs": [
    {
     "data": {
      "text/plain": [
       "('Xerath', '55.53%', '4.60:1')"
      ]
     },
     "execution_count": 9,
     "metadata": {},
     "output_type": "execute_result"
    }
   ],
   "source": [
    "name[0], winrate[0], KDA[0]"
   ]
  },
  {
   "cell_type": "markdown",
   "metadata": {},
   "source": [
    "## 6. DataFrame 생성"
   ]
  },
  {
   "cell_type": "code",
   "execution_count": 11,
   "metadata": {},
   "outputs": [
    {
     "data": {
      "text/html": [
       "<div>\n",
       "<style scoped>\n",
       "    .dataframe tbody tr th:only-of-type {\n",
       "        vertical-align: middle;\n",
       "    }\n",
       "\n",
       "    .dataframe tbody tr th {\n",
       "        vertical-align: top;\n",
       "    }\n",
       "\n",
       "    .dataframe thead th {\n",
       "        text-align: right;\n",
       "    }\n",
       "</style>\n",
       "<table border=\"1\" class=\"dataframe\">\n",
       "  <thead>\n",
       "    <tr style=\"text-align: right;\">\n",
       "      <th></th>\n",
       "      <th>name</th>\n",
       "      <th>winrate</th>\n",
       "      <th>KDA</th>\n",
       "    </tr>\n",
       "  </thead>\n",
       "  <tbody>\n",
       "    <tr>\n",
       "      <th>0</th>\n",
       "      <td>Xerath</td>\n",
       "      <td>55.53%</td>\n",
       "      <td>4.60:1</td>\n",
       "    </tr>\n",
       "    <tr>\n",
       "      <th>1</th>\n",
       "      <td>Varus</td>\n",
       "      <td>54.19%</td>\n",
       "      <td>4.21:1</td>\n",
       "    </tr>\n",
       "    <tr>\n",
       "      <th>2</th>\n",
       "      <td>Kog'Maw</td>\n",
       "      <td>55.40%</td>\n",
       "      <td>3.58:1</td>\n",
       "    </tr>\n",
       "    <tr>\n",
       "      <th>3</th>\n",
       "      <td>Yuumi</td>\n",
       "      <td>51.53%</td>\n",
       "      <td>7.31:1</td>\n",
       "    </tr>\n",
       "    <tr>\n",
       "      <th>4</th>\n",
       "      <td>Ashe</td>\n",
       "      <td>55.97%</td>\n",
       "      <td>3.92:1</td>\n",
       "    </tr>\n",
       "    <tr>\n",
       "      <th>5</th>\n",
       "      <td>Senna</td>\n",
       "      <td>53.60%</td>\n",
       "      <td>4.77:1</td>\n",
       "    </tr>\n",
       "    <tr>\n",
       "      <th>6</th>\n",
       "      <td>Lillia</td>\n",
       "      <td>54.92%</td>\n",
       "      <td>3.28:1</td>\n",
       "    </tr>\n",
       "    <tr>\n",
       "      <th>7</th>\n",
       "      <td>Ezreal</td>\n",
       "      <td>52.31%</td>\n",
       "      <td>3.83:1</td>\n",
       "    </tr>\n",
       "    <tr>\n",
       "      <th>8</th>\n",
       "      <td>Ziggs</td>\n",
       "      <td>53.39%</td>\n",
       "      <td>3.87:1</td>\n",
       "    </tr>\n",
       "    <tr>\n",
       "      <th>9</th>\n",
       "      <td>Miss Fortune</td>\n",
       "      <td>53.08%</td>\n",
       "      <td>3.78:1</td>\n",
       "    </tr>\n",
       "    <tr>\n",
       "      <th>10</th>\n",
       "      <td>Nidalee</td>\n",
       "      <td>50.55%</td>\n",
       "      <td>4.42:1</td>\n",
       "    </tr>\n",
       "    <tr>\n",
       "      <th>11</th>\n",
       "      <td>Jinx</td>\n",
       "      <td>53.97%</td>\n",
       "      <td>3.58:1</td>\n",
       "    </tr>\n",
       "    <tr>\n",
       "      <th>12</th>\n",
       "      <td>Vel'Koz</td>\n",
       "      <td>52.81%</td>\n",
       "      <td>3.81:1</td>\n",
       "    </tr>\n",
       "    <tr>\n",
       "      <th>13</th>\n",
       "      <td>Viktor</td>\n",
       "      <td>52.72%</td>\n",
       "      <td>3.42:1</td>\n",
       "    </tr>\n",
       "    <tr>\n",
       "      <th>14</th>\n",
       "      <td>Jhin</td>\n",
       "      <td>51.40%</td>\n",
       "      <td>4.38:1</td>\n",
       "    </tr>\n",
       "    <tr>\n",
       "      <th>15</th>\n",
       "      <td>Karthus</td>\n",
       "      <td>52.08%</td>\n",
       "      <td>2.71:1</td>\n",
       "    </tr>\n",
       "    <tr>\n",
       "      <th>16</th>\n",
       "      <td>Jayce</td>\n",
       "      <td>50.38%</td>\n",
       "      <td>3.84:1</td>\n",
       "    </tr>\n",
       "    <tr>\n",
       "      <th>17</th>\n",
       "      <td>Brand</td>\n",
       "      <td>52.64%</td>\n",
       "      <td>3.13:1</td>\n",
       "    </tr>\n",
       "    <tr>\n",
       "      <th>18</th>\n",
       "      <td>Twitch</td>\n",
       "      <td>52.42%</td>\n",
       "      <td>3.32:1</td>\n",
       "    </tr>\n",
       "    <tr>\n",
       "      <th>19</th>\n",
       "      <td>Aphelios</td>\n",
       "      <td>53.33%</td>\n",
       "      <td>3.38:1</td>\n",
       "    </tr>\n",
       "    <tr>\n",
       "      <th>20</th>\n",
       "      <td>Kled</td>\n",
       "      <td>54.50%</td>\n",
       "      <td>3.53:1</td>\n",
       "    </tr>\n",
       "    <tr>\n",
       "      <th>21</th>\n",
       "      <td>Sona</td>\n",
       "      <td>58.02%</td>\n",
       "      <td>4.93:1</td>\n",
       "    </tr>\n",
       "    <tr>\n",
       "      <th>22</th>\n",
       "      <td>Lux</td>\n",
       "      <td>51.75%</td>\n",
       "      <td>4.64:1</td>\n",
       "    </tr>\n",
       "    <tr>\n",
       "      <th>23</th>\n",
       "      <td>Sivir</td>\n",
       "      <td>51.84%</td>\n",
       "      <td>3.88:1</td>\n",
       "    </tr>\n",
       "    <tr>\n",
       "      <th>24</th>\n",
       "      <td>Graves</td>\n",
       "      <td>53.00%</td>\n",
       "      <td>3.35:1</td>\n",
       "    </tr>\n",
       "    <tr>\n",
       "      <th>25</th>\n",
       "      <td>Gangplank</td>\n",
       "      <td>50.76%</td>\n",
       "      <td>3.72:1</td>\n",
       "    </tr>\n",
       "    <tr>\n",
       "      <th>26</th>\n",
       "      <td>Sett</td>\n",
       "      <td>55.76%</td>\n",
       "      <td>2.80:1</td>\n",
       "    </tr>\n",
       "    <tr>\n",
       "      <th>27</th>\n",
       "      <td>Morgana</td>\n",
       "      <td>52.81%</td>\n",
       "      <td>4.13:1</td>\n",
       "    </tr>\n",
       "    <tr>\n",
       "      <th>28</th>\n",
       "      <td>Caitlyn</td>\n",
       "      <td>51.79%</td>\n",
       "      <td>3.60:1</td>\n",
       "    </tr>\n",
       "    <tr>\n",
       "      <th>29</th>\n",
       "      <td>Shyvana</td>\n",
       "      <td>52.13%</td>\n",
       "      <td>3.17:1</td>\n",
       "    </tr>\n",
       "    <tr>\n",
       "      <th>30</th>\n",
       "      <td>Maokai</td>\n",
       "      <td>55.36%</td>\n",
       "      <td>3.21:1</td>\n",
       "    </tr>\n",
       "    <tr>\n",
       "      <th>31</th>\n",
       "      <td>Heimerdinger</td>\n",
       "      <td>51.72%</td>\n",
       "      <td>3.44:1</td>\n",
       "    </tr>\n",
       "    <tr>\n",
       "      <th>32</th>\n",
       "      <td>Taliyah</td>\n",
       "      <td>50.24%</td>\n",
       "      <td>3.20:1</td>\n",
       "    </tr>\n",
       "    <tr>\n",
       "      <th>33</th>\n",
       "      <td>Zyra</td>\n",
       "      <td>51.86%</td>\n",
       "      <td>3.45:1</td>\n",
       "    </tr>\n",
       "    <tr>\n",
       "      <th>34</th>\n",
       "      <td>Corki</td>\n",
       "      <td>50.31%</td>\n",
       "      <td>3.23:1</td>\n",
       "    </tr>\n",
       "    <tr>\n",
       "      <th>35</th>\n",
       "      <td>Nami</td>\n",
       "      <td>54.23%</td>\n",
       "      <td>5.50:1</td>\n",
       "    </tr>\n",
       "    <tr>\n",
       "      <th>36</th>\n",
       "      <td>Samira</td>\n",
       "      <td>52.63%</td>\n",
       "      <td>2.85:1</td>\n",
       "    </tr>\n",
       "    <tr>\n",
       "      <th>37</th>\n",
       "      <td>Seraphine</td>\n",
       "      <td>54.24%</td>\n",
       "      <td>4.44:1</td>\n",
       "    </tr>\n",
       "    <tr>\n",
       "      <th>38</th>\n",
       "      <td>Malzahar</td>\n",
       "      <td>52.97%</td>\n",
       "      <td>3.36:1</td>\n",
       "    </tr>\n",
       "    <tr>\n",
       "      <th>39</th>\n",
       "      <td>Camille</td>\n",
       "      <td>54.22%</td>\n",
       "      <td>2.66:1</td>\n",
       "    </tr>\n",
       "    <tr>\n",
       "      <th>40</th>\n",
       "      <td>Kai'Sa</td>\n",
       "      <td>47.97%</td>\n",
       "      <td>3.92:1</td>\n",
       "    </tr>\n",
       "    <tr>\n",
       "      <th>41</th>\n",
       "      <td>Katarina</td>\n",
       "      <td>51.06%</td>\n",
       "      <td>2.92:1</td>\n",
       "    </tr>\n",
       "    <tr>\n",
       "      <th>42</th>\n",
       "      <td>Rumble</td>\n",
       "      <td>49.07%</td>\n",
       "      <td>3.12:1</td>\n",
       "    </tr>\n",
       "    <tr>\n",
       "      <th>43</th>\n",
       "      <td>Irelia</td>\n",
       "      <td>53.37%</td>\n",
       "      <td>2.54:1</td>\n",
       "    </tr>\n",
       "    <tr>\n",
       "      <th>44</th>\n",
       "      <td>Kindred</td>\n",
       "      <td>50.63%</td>\n",
       "      <td>3.14:1</td>\n",
       "    </tr>\n",
       "    <tr>\n",
       "      <th>45</th>\n",
       "      <td>Syndra</td>\n",
       "      <td>49.58%</td>\n",
       "      <td>3.24:1</td>\n",
       "    </tr>\n",
       "    <tr>\n",
       "      <th>46</th>\n",
       "      <td>Swain</td>\n",
       "      <td>49.77%</td>\n",
       "      <td>3.33:1</td>\n",
       "    </tr>\n",
       "    <tr>\n",
       "      <th>47</th>\n",
       "      <td>Kayle</td>\n",
       "      <td>51.84%</td>\n",
       "      <td>3.59:1</td>\n",
       "    </tr>\n",
       "    <tr>\n",
       "      <th>48</th>\n",
       "      <td>Teemo</td>\n",
       "      <td>51.90%</td>\n",
       "      <td>2.89:1</td>\n",
       "    </tr>\n",
       "    <tr>\n",
       "      <th>49</th>\n",
       "      <td>Soraka</td>\n",
       "      <td>55.07%</td>\n",
       "      <td>5.16:1</td>\n",
       "    </tr>\n",
       "  </tbody>\n",
       "</table>\n",
       "</div>"
      ],
      "text/plain": [
       "            name winrate     KDA\n",
       "0         Xerath  55.53%  4.60:1\n",
       "1          Varus  54.19%  4.21:1\n",
       "2        Kog'Maw  55.40%  3.58:1\n",
       "3          Yuumi  51.53%  7.31:1\n",
       "4           Ashe  55.97%  3.92:1\n",
       "5          Senna  53.60%  4.77:1\n",
       "6         Lillia  54.92%  3.28:1\n",
       "7         Ezreal  52.31%  3.83:1\n",
       "8          Ziggs  53.39%  3.87:1\n",
       "9   Miss Fortune  53.08%  3.78:1\n",
       "10       Nidalee  50.55%  4.42:1\n",
       "11          Jinx  53.97%  3.58:1\n",
       "12       Vel'Koz  52.81%  3.81:1\n",
       "13        Viktor  52.72%  3.42:1\n",
       "14          Jhin  51.40%  4.38:1\n",
       "15       Karthus  52.08%  2.71:1\n",
       "16         Jayce  50.38%  3.84:1\n",
       "17         Brand  52.64%  3.13:1\n",
       "18        Twitch  52.42%  3.32:1\n",
       "19      Aphelios  53.33%  3.38:1\n",
       "20          Kled  54.50%  3.53:1\n",
       "21          Sona  58.02%  4.93:1\n",
       "22           Lux  51.75%  4.64:1\n",
       "23         Sivir  51.84%  3.88:1\n",
       "24        Graves  53.00%  3.35:1\n",
       "25     Gangplank  50.76%  3.72:1\n",
       "26          Sett  55.76%  2.80:1\n",
       "27       Morgana  52.81%  4.13:1\n",
       "28       Caitlyn  51.79%  3.60:1\n",
       "29       Shyvana  52.13%  3.17:1\n",
       "30        Maokai  55.36%  3.21:1\n",
       "31  Heimerdinger  51.72%  3.44:1\n",
       "32       Taliyah  50.24%  3.20:1\n",
       "33          Zyra  51.86%  3.45:1\n",
       "34         Corki  50.31%  3.23:1\n",
       "35          Nami  54.23%  5.50:1\n",
       "36        Samira  52.63%  2.85:1\n",
       "37     Seraphine  54.24%  4.44:1\n",
       "38      Malzahar  52.97%  3.36:1\n",
       "39       Camille  54.22%  2.66:1\n",
       "40        Kai'Sa  47.97%  3.92:1\n",
       "41      Katarina  51.06%  2.92:1\n",
       "42        Rumble  49.07%  3.12:1\n",
       "43        Irelia  53.37%  2.54:1\n",
       "44       Kindred  50.63%  3.14:1\n",
       "45        Syndra  49.58%  3.24:1\n",
       "46         Swain  49.77%  3.33:1\n",
       "47         Kayle  51.84%  3.59:1\n",
       "48         Teemo  51.90%  2.89:1\n",
       "49        Soraka  55.07%  5.16:1"
      ]
     },
     "execution_count": 11,
     "metadata": {},
     "output_type": "execute_result"
    }
   ],
   "source": [
    "df_data = {\n",
    "    'name': name,\n",
    "    'winrate': winrate,\n",
    "    'KDA': KDA\n",
    "}\n",
    "\n",
    "df = pd.DataFrame(data=df_data)\n",
    "df"
   ]
  },
  {
   "cell_type": "code",
   "execution_count": null,
   "metadata": {},
   "outputs": [],
   "source": []
  }
 ],
 "metadata": {
  "kernelspec": {
   "display_name": "Python 3",
   "language": "python",
   "name": "python3"
  },
  "language_info": {
   "codemirror_mode": {
    "name": "ipython",
    "version": 3
   },
   "file_extension": ".py",
   "mimetype": "text/x-python",
   "name": "python",
   "nbconvert_exporter": "python",
   "pygments_lexer": "ipython3",
   "version": "3.8.5"
  }
 },
 "nbformat": 4,
 "nbformat_minor": 4
}
